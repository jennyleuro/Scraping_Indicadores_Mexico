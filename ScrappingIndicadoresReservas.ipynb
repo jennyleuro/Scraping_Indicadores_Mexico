{
 "cells": [
  {
   "cell_type": "code",
   "execution_count": 35,
   "metadata": {},
   "outputs": [],
   "source": [
    "import time\n",
    "from selenium import webdriver\n",
    "from selenium.webdriver.support.ui import WebDriverWait\n",
    "from selenium.webdriver.support import expected_conditions as EC\n",
    "from selenium.webdriver.common.by import By\n",
    "from webdriver_manager.microsoft import EdgeChromiumDriverManager\n",
    "import pandas as pd\n",
    "import lxml.html\n"
   ]
  },
  {
   "cell_type": "code",
   "execution_count": 9,
   "metadata": {},
   "outputs": [
    {
     "data": {
      "text/plain": [
       "'\\n# Opciones de navegación\\noptions = webdriver.ChromeOptions()\\noptions .add_argument(\\'--start-maximized\\')\\noptions .add_argument(\\'--disable-extensions\\')\\noptions.add_experimental_option(\\'prefs\\', {\\n    \"download.default_directory\": \"D:\\\\2022-I\\\\Práctica I\\\\Primera asignación\\\\México\"\\n})\\n\\ndriver_path =  \"D:\\\\Chrome driver\\\\chromedriver.exe\"\\ndriver = webdriver.Chrome(driver_path, options = options)\\n'"
      ]
     },
     "execution_count": 9,
     "metadata": {},
     "output_type": "execute_result"
    }
   ],
   "source": [
    "# Inicializar el navegador\n",
    "'''\n",
    "# Opciones de navegación\n",
    "options = webdriver.ChromeOptions()\n",
    "options .add_argument('--start-maximized')\n",
    "options .add_argument('--disable-extensions')\n",
    "options.add_experimental_option('prefs', {\n",
    "    \"download.default_directory\": \"D:\\\\2022-I\\Práctica I\\Primera asignación\\México\"\n",
    "})\n",
    "\n",
    "driver_path =  \"D:\\Chrome driver\\chromedriver.exe\"\n",
    "driver = webdriver.Chrome(driver_path, options = options)\n",
    "'''"
   ]
  },
  {
   "cell_type": "code",
   "execution_count": 23,
   "metadata": {},
   "outputs": [
    {
     "name": "stderr",
     "output_type": "stream",
     "text": [
      "[WDM] - ====== WebDriver manager ======\n",
      "[WDM] - Current edge version is 99.0.1150\n",
      "[WDM] - Get LATEST edgedriver version for 99.0.1150 Edge\n",
      "[WDM] - Driver [C:\\Users\\PC1\\.wdm\\drivers\\edgedriver\\win64\\99.0.1150.55\\msedgedriver.exe] found in cache\n"
     ]
    }
   ],
   "source": [
    "ruta = EdgeChromiumDriverManager().install()"
   ]
  },
  {
   "cell_type": "code",
   "execution_count": 36,
   "metadata": {},
   "outputs": [
    {
     "name": "stderr",
     "output_type": "stream",
     "text": [
      "C:\\Users\\PC1\\AppData\\Local\\Temp\\ipykernel_888\\1901466347.py:1: DeprecationWarning: executable_path has been deprecated, please pass in a Service object\n",
      "  driver = webdriver.Edge(ruta)\n"
     ]
    },
    {
     "name": "stdout",
     "output_type": "stream",
     "text": [
      "['https://portafolioinfo.cnbv.gob.mx/_layouts/15/download.aspx?SourceUrl=https://portafolioinfo.cnbv.gob.mx/PortafolioInformacion/SH_BM_202112.xlsm']\n"
     ]
    },
    {
     "data": {
      "text/plain": [
       "'\\nWebDriverWait(driver, 5)    .until(EC.element_to_be_clickable((By.XPATH, \\n    \\'//tr[@id=\"37\"]//img\\')))        .click()\\n'"
      ]
     },
     "execution_count": 36,
     "metadata": {},
     "output_type": "execute_result"
    }
   ],
   "source": [
    "driver = webdriver.Edge(ruta)\n",
    "driver.get('https://www.cnbv.gob.mx/SECTORES-SUPERVISADOS/BANCA-MULTIPLE/Paginas/Información-Estadística.aspx')\n",
    "\n",
    "WebDriverWait(driver, 5)\\\n",
    "    .until(EC.element_to_be_clickable((By.XPATH, \n",
    "    '//p[@style = \"text-align:left;\"]/a')))\\\n",
    "        .click()\n",
    "\n",
    "driver.switch_to.window(driver.window_handles[1])\n",
    "\n",
    "WebDriverWait(driver, 5)\\\n",
    "    .until(EC.element_to_be_clickable((By.XPATH, \n",
    "    '//table[@class=\"MsoNormalTable \"]/tbody/tr/td/div/span/a/span[@lang=\"ES\" and @style=\"font-size: 10pt; text-decoration: none; color: blue\"]')))\\\n",
    "        .click()\n",
    "\n",
    "driver.switch_to.window(driver.window_handles[2])\n",
    "\n",
    "doc = lxml.html.fromstring(driver.page_source)\n",
    "link = doc.xpath('//*[@id=\"1\"]/td[4]/a/@href')[0]\n",
    "\n",
    "'''\n",
    "WebDriverWait(driver, 5)\\\n",
    "    .until(EC.element_to_be_clickable((By.XPATH, \n",
    "    '//tr[@id=\"1\"]//img')))\\\n",
    "        .click()\n",
    "'''\n",
    "\n",
    "\n",
    "#//*[@id=\"1\"]/td[4]/a\n",
    "'''\n",
    "WebDriverWait(driver, 5)\\\n",
    "    .until(EC.element_to_be_clickable((By.XPATH, \n",
    "    '//tr[@id=\"37\"]//img')))\\\n",
    "        .click()\n",
    "'''\n",
    "\n",
    "#driver.close()"
   ]
  },
  {
   "cell_type": "code",
   "execution_count": 39,
   "metadata": {},
   "outputs": [],
   "source": [
    "Archivo_Excel = pd.ExcelFile(\"https://portafolioinfo.cnbv.gob.mx/_layouts/15/download.aspx?SourceUrl=https://portafolioinfo.cnbv.gob.mx/PortafolioInformacion/SH_BM_202112.xlsm\")"
   ]
  },
  {
   "cell_type": "code",
   "execution_count": 40,
   "metadata": {},
   "outputs": [
    {
     "name": "stdout",
     "output_type": "stream",
     "text": [
      "['Hoja1', 'Hoja2', 'Hoja3', 'Hoja4', 'Fórmulas', 'Notas']\n"
     ]
    }
   ],
   "source": [
    "print(Archivo_Excel.sheet_names)"
   ]
  },
  {
   "cell_type": "code",
   "execution_count": 43,
   "metadata": {},
   "outputs": [],
   "source": [
    "df = Archivo_Excel.parse('Hoja2', skiprows=2)"
   ]
  },
  {
   "cell_type": "code",
   "execution_count": 44,
   "metadata": {},
   "outputs": [
    {
     "data": {
      "text/html": [
       "<div>\n",
       "<style scoped>\n",
       "    .dataframe tbody tr th:only-of-type {\n",
       "        vertical-align: middle;\n",
       "    }\n",
       "\n",
       "    .dataframe tbody tr th {\n",
       "        vertical-align: top;\n",
       "    }\n",
       "\n",
       "    .dataframe thead th {\n",
       "        text-align: right;\n",
       "    }\n",
       "</style>\n",
       "<table border=\"1\" class=\"dataframe\">\n",
       "  <thead>\n",
       "    <tr style=\"text-align: right;\">\n",
       "      <th></th>\n",
       "      <th>Unnamed: 0</th>\n",
       "      <th>Indicadores del Balance General (millones de pesos corrientes)</th>\n",
       "      <th>2000-12-01 00:00:00</th>\n",
       "      <th>2001-01-01 00:00:00</th>\n",
       "      <th>2001-02-01 00:00:00</th>\n",
       "      <th>2001-03-01 00:00:00</th>\n",
       "      <th>2001-04-01 00:00:00</th>\n",
       "      <th>2001-05-01 00:00:00</th>\n",
       "      <th>2001-06-01 00:00:00</th>\n",
       "      <th>2001-07-01 00:00:00</th>\n",
       "      <th>...</th>\n",
       "      <th>2021-03-01 00:00:00</th>\n",
       "      <th>2021-04-01 00:00:00</th>\n",
       "      <th>2021-05-01 00:00:00</th>\n",
       "      <th>2021-06-01 00:00:00</th>\n",
       "      <th>2021-07-01 00:00:00</th>\n",
       "      <th>2021-08-01 00:00:00</th>\n",
       "      <th>2021-09-01 00:00:00</th>\n",
       "      <th>2021-10-01 00:00:00</th>\n",
       "      <th>2021-11-01 00:00:00</th>\n",
       "      <th>2021-12-01 00:00:00</th>\n",
       "    </tr>\n",
       "  </thead>\n",
       "  <tbody>\n",
       "    <tr>\n",
       "      <th>0</th>\n",
       "      <td>NaN</td>\n",
       "      <td>MENU INICIAL</td>\n",
       "      <td>NaN</td>\n",
       "      <td>NaN</td>\n",
       "      <td>NaN</td>\n",
       "      <td>NaN</td>\n",
       "      <td>NaN</td>\n",
       "      <td>NaN</td>\n",
       "      <td>NaN</td>\n",
       "      <td>NaN</td>\n",
       "      <td>...</td>\n",
       "      <td>NaN</td>\n",
       "      <td>NaN</td>\n",
       "      <td>NaN</td>\n",
       "      <td>NaN</td>\n",
       "      <td>NaN</td>\n",
       "      <td>NaN</td>\n",
       "      <td>NaN</td>\n",
       "      <td>NaN</td>\n",
       "      <td>NaN</td>\n",
       "      <td>NaN</td>\n",
       "    </tr>\n",
       "    <tr>\n",
       "      <th>1</th>\n",
       "      <td>1.000000e+11</td>\n",
       "      <td>Activo</td>\n",
       "      <td>2031703.87041</td>\n",
       "      <td>2055187.93442</td>\n",
       "      <td>2084829.566104</td>\n",
       "      <td>2056694.576969</td>\n",
       "      <td>2081879.33417</td>\n",
       "      <td>2118365.150337</td>\n",
       "      <td>2132420.149837</td>\n",
       "      <td>2226432.435902</td>\n",
       "      <td>...</td>\n",
       "      <td>10952456.445674</td>\n",
       "      <td>10971377.671798</td>\n",
       "      <td>11096361.181087</td>\n",
       "      <td>10999924.466154</td>\n",
       "      <td>10902808.218173</td>\n",
       "      <td>10866521.151647</td>\n",
       "      <td>11085989.923262</td>\n",
       "      <td>11122367.123919</td>\n",
       "      <td>11710245.449794</td>\n",
       "      <td>11078128.990328</td>\n",
       "    </tr>\n",
       "    <tr>\n",
       "      <th>2</th>\n",
       "      <td>1.100000e+11</td>\n",
       "      <td>Disponibilidades</td>\n",
       "      <td>224895.769337</td>\n",
       "      <td>231950.874542</td>\n",
       "      <td>227388.183643</td>\n",
       "      <td>210289.146932</td>\n",
       "      <td>217630.648815</td>\n",
       "      <td>222482.172516</td>\n",
       "      <td>236200.681188</td>\n",
       "      <td>264461.556237</td>\n",
       "      <td>...</td>\n",
       "      <td>1026498.642033</td>\n",
       "      <td>1047597.145691</td>\n",
       "      <td>1077118.725464</td>\n",
       "      <td>1108781.269692</td>\n",
       "      <td>1117350.079537</td>\n",
       "      <td>1016997.406482</td>\n",
       "      <td>990645.224027</td>\n",
       "      <td>1028203.116459</td>\n",
       "      <td>1163871.522447</td>\n",
       "      <td>1076629.791795</td>\n",
       "    </tr>\n",
       "    <tr>\n",
       "      <th>3</th>\n",
       "      <td>1.101000e+11</td>\n",
       "      <td>Caja</td>\n",
       "      <td>29386.129116</td>\n",
       "      <td>18852.224628</td>\n",
       "      <td>18173.638476</td>\n",
       "      <td>17462.864204</td>\n",
       "      <td>18583.047123</td>\n",
       "      <td>19660.536082</td>\n",
       "      <td>18899.886395</td>\n",
       "      <td>18512.676987</td>\n",
       "      <td>...</td>\n",
       "      <td>214414.325249</td>\n",
       "      <td>186516.952177</td>\n",
       "      <td>182570.219137</td>\n",
       "      <td>185570.7622</td>\n",
       "      <td>187001.313424</td>\n",
       "      <td>187143.195342</td>\n",
       "      <td>196024.783034</td>\n",
       "      <td>186704.690536</td>\n",
       "      <td>204613.725798</td>\n",
       "      <td>216524.537871</td>\n",
       "    </tr>\n",
       "    <tr>\n",
       "      <th>4</th>\n",
       "      <td>1.102000e+11</td>\n",
       "      <td>Bancos</td>\n",
       "      <td>176184.369842</td>\n",
       "      <td>186088.347654</td>\n",
       "      <td>185771.241494</td>\n",
       "      <td>163961.016728</td>\n",
       "      <td>174898.169304</td>\n",
       "      <td>181315.302557</td>\n",
       "      <td>183161.161458</td>\n",
       "      <td>221604.484267</td>\n",
       "      <td>...</td>\n",
       "      <td>396623.828581</td>\n",
       "      <td>374461.356901</td>\n",
       "      <td>460695.024065</td>\n",
       "      <td>416533.779681</td>\n",
       "      <td>464416.529563</td>\n",
       "      <td>423439.053146</td>\n",
       "      <td>295612.325559</td>\n",
       "      <td>383898.131634</td>\n",
       "      <td>447680.50362</td>\n",
       "      <td>416210.859886</td>\n",
       "    </tr>\n",
       "  </tbody>\n",
       "</table>\n",
       "<p>5 rows × 255 columns</p>\n",
       "</div>"
      ],
      "text/plain": [
       "     Unnamed: 0  \\\n",
       "0           NaN   \n",
       "1  1.000000e+11   \n",
       "2  1.100000e+11   \n",
       "3  1.101000e+11   \n",
       "4  1.102000e+11   \n",
       "\n",
       "  Indicadores del Balance General (millones de pesos corrientes)  \\\n",
       "0                                       MENU INICIAL               \n",
       "1                                             Activo               \n",
       "2                                   Disponibilidades               \n",
       "3                                               Caja               \n",
       "4                                             Bancos               \n",
       "\n",
       "  2000-12-01 00:00:00 2001-01-01 00:00:00 2001-02-01 00:00:00  \\\n",
       "0                 NaN                 NaN                 NaN   \n",
       "1       2031703.87041       2055187.93442      2084829.566104   \n",
       "2       224895.769337       231950.874542       227388.183643   \n",
       "3        29386.129116        18852.224628        18173.638476   \n",
       "4       176184.369842       186088.347654       185771.241494   \n",
       "\n",
       "  2001-03-01 00:00:00 2001-04-01 00:00:00 2001-05-01 00:00:00  \\\n",
       "0                 NaN                 NaN                 NaN   \n",
       "1      2056694.576969       2081879.33417      2118365.150337   \n",
       "2       210289.146932       217630.648815       222482.172516   \n",
       "3        17462.864204        18583.047123        19660.536082   \n",
       "4       163961.016728       174898.169304       181315.302557   \n",
       "\n",
       "  2001-06-01 00:00:00 2001-07-01 00:00:00  ... 2021-03-01 00:00:00  \\\n",
       "0                 NaN                 NaN  ...                 NaN   \n",
       "1      2132420.149837      2226432.435902  ...     10952456.445674   \n",
       "2       236200.681188       264461.556237  ...      1026498.642033   \n",
       "3        18899.886395        18512.676987  ...       214414.325249   \n",
       "4       183161.161458       221604.484267  ...       396623.828581   \n",
       "\n",
       "  2021-04-01 00:00:00 2021-05-01 00:00:00 2021-06-01 00:00:00  \\\n",
       "0                 NaN                 NaN                 NaN   \n",
       "1     10971377.671798     11096361.181087     10999924.466154   \n",
       "2      1047597.145691      1077118.725464      1108781.269692   \n",
       "3       186516.952177       182570.219137         185570.7622   \n",
       "4       374461.356901       460695.024065       416533.779681   \n",
       "\n",
       "  2021-07-01 00:00:00 2021-08-01 00:00:00 2021-09-01 00:00:00  \\\n",
       "0                 NaN                 NaN                 NaN   \n",
       "1     10902808.218173     10866521.151647     11085989.923262   \n",
       "2      1117350.079537      1016997.406482       990645.224027   \n",
       "3       187001.313424       187143.195342       196024.783034   \n",
       "4       464416.529563       423439.053146       295612.325559   \n",
       "\n",
       "  2021-10-01 00:00:00 2021-11-01 00:00:00 2021-12-01 00:00:00  \n",
       "0                 NaN                 NaN                 NaN  \n",
       "1     11122367.123919     11710245.449794     11078128.990328  \n",
       "2      1028203.116459      1163871.522447      1076629.791795  \n",
       "3       186704.690536       204613.725798       216524.537871  \n",
       "4       383898.131634        447680.50362       416210.859886  \n",
       "\n",
       "[5 rows x 255 columns]"
      ]
     },
     "execution_count": 44,
     "metadata": {},
     "output_type": "execute_result"
    }
   ],
   "source": [
    "df.head()"
   ]
  }
 ],
 "metadata": {
  "interpreter": {
   "hash": "227370596dfbc17e78cab90e0b0b0ca34609fc4dab27dfc241df299b744d7498"
  },
  "kernelspec": {
   "display_name": "Python 3.9.4 64-bit",
   "language": "python",
   "name": "python3"
  },
  "language_info": {
   "codemirror_mode": {
    "name": "ipython",
    "version": 3
   },
   "file_extension": ".py",
   "mimetype": "text/x-python",
   "name": "python",
   "nbconvert_exporter": "python",
   "pygments_lexer": "ipython3",
   "version": "3.9.4"
  },
  "orig_nbformat": 4
 },
 "nbformat": 4,
 "nbformat_minor": 2
}
